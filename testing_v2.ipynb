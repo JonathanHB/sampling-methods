{
 "cells": [
  {
   "cell_type": "code",
   "execution_count": 167,
   "id": "7a123020-0129-4a64-a89a-bd052129b67b",
   "metadata": {},
   "outputs": [],
   "source": [
    "import propagators\n",
    "import energy_landscapes\n",
    "import long_simulation\n",
    "import weighted_ensemble_2\n",
    "import numpy as np\n",
    "import MSM_methods\n",
    "\n",
    "import matplotlib.pyplot as plt\n",
    "import importlib\n",
    "\n",
    "importlib.reload(MSM_methods)\n",
    "importlib.reload(long_simulation)\n",
    "\n",
    "#methods for fast print debugging\n",
    "def p(x):\n",
    "    print(x)\n",
    "def pl(x):\n",
    "    print(len(x))\n",
    "def ps(x):\n",
    "    print(x.shape)\n",
    "\n",
    "kT = 1\n",
    "dt = 0.001\n",
    "system1 = energy_landscapes.unit_double_well()\n",
    "#system1.plot_quantity(system1.potential)"
   ]
  },
  {
   "cell_type": "code",
   "execution_count": null,
   "id": "7a18ae26-52f4-480c-9fa1-bef17ada2234",
   "metadata": {},
   "outputs": [],
   "source": [
    "#system1.plot_quantity(system1.potential)\n",
    "x_init_coord = system1.standard_init_coord()\n",
    "nsteps = 10000\n",
    "save_period = 10 #in steps\n",
    "n_parallel = 100\n",
    "nbins = 80\n",
    "\n",
    "long_trjs = long_simulation.run_long_parallel_simulations(propagators.propagate_nd, system1, kT, x_init_coord, dt, nsteps, save_period, n_parallel)\n",
    "print(f\"simulation steps:\\n Aggregate: {nsteps*n_parallel} \\n Molecular: {nsteps}\")\n",
    "\n",
    "\n",
    "#------------------------------------------------------------------------------------------\n",
    "#non-MSM analysis\n",
    "\n",
    "x, p, xs, es, xc, ec = long_simulation.estimate_energy_landscape_histogram(long_trjs, kT, nbins)\n",
    "metrics = energy_landscapes.landscape_comparison(system1, kT, x, p, metrics = [\"maew\"])\n",
    "transitions, mfpts = long_simulation.calc_mfpt(system1.macro_class, system1.n_macrostates(), save_period, long_trjs)\n",
    "\n",
    "inter_well_mpfts = [mfpts[0,1], mfpts[1,0]]\n",
    "print(f\"MFPT = {np.mean(inter_well_mpfts)}+-{np.std(inter_well_mpfts)} steps\")\n",
    "\n",
    "\n",
    "#------------------------------------------------------------------------------------------\n",
    "#MSM analysis\n",
    "\n",
    "x_msm, eqp_msm, ms_msm, mfpts_msm = long_simulation.msm_analysis(long_trjs, kT, nbins, system1.macro_class, system1.n_macrostates(), save_period, show_TPM=True)\n",
    "metrics = energy_landscapes.landscape_comparison(system1, kT, x_msm, eqp_msm, metrics = [\"maew\"])\n",
    "inter_well_mpfts_msm = [mfpts_msm[0,1], mfpts_msm[1,0]]\n",
    "print(f\"MFPT = {np.mean(inter_well_mpfts_msm)}+-{np.std(inter_well_mpfts_msm)} steps\")\n"
   ]
  },
  {
   "cell_type": "code",
   "execution_count": null,
   "id": "160f6a24",
   "metadata": {},
   "outputs": [],
   "source": [
    "print(mfpts_msm)"
   ]
  },
  {
   "cell_type": "markdown",
   "id": "d174dd29-f7f2-47d4-a4ff-4941c6c87482",
   "metadata": {},
   "source": [
    "# WE simulation"
   ]
  },
  {
   "cell_type": "code",
   "execution_count": null,
   "id": "cd1d1c51-74fa-43db-914a-ed2eb0462fe3",
   "metadata": {},
   "outputs": [],
   "source": [
    "#Weighted ensemble (WE) parameters and inputs\n",
    "\n",
    "N = 240             #total number of walkers within binrange\n",
    "nbins = 40         #total number of bins within binrange\n",
    "\n",
    "walkers_per_bin = round(N/nbins)\n",
    "print(f\"Each bin can hold up to {walkers_per_bin} walkers, for a total of up to {walkers_per_bin*(nbins+2)} walkers\")\n",
    "\n",
    "binrange = [-1.5, 1.5] #progress coordinate range within which to bin simulations\n",
    "                    #this should extend well past the stall point for examination of the WE stall force\n",
    "                    #the area past either end of binrange is a bin extending to either + or - inf, yielding a total of nbins+2 bins\n",
    "n_macrostates=2\n",
    "        \n",
    "nsteps = 200        #round length\n",
    "nrounds = 1000        #number of WE rounds to run\n",
    "\n",
    "x_init_val = system1.standard_init_coord()\n",
    "\n",
    "#run weighted ensemble with brownian dynamics\n",
    "#put this on multiple lines\n",
    "x_init, e_init, w_init, binbounds, xtrj, etrj, wtrj, transitions, hamsm_transitions, n_trans_by_round \\\n",
    "= weighted_ensemble_2.weighted_ensemble_start(\\\n",
    "                    x_init_val,\\\n",
    "                    nrounds,\\\n",
    "                    nbins,\\\n",
    "                    walkers_per_bin,\\\n",
    "                    binrange, propagators.propagate_nd_save1,\\\n",
    "                    [system1, kT, dt, nsteps],\\\n",
    "                    system1.ensemble_class,\\\n",
    "                    n_macrostates,\\\n",
    "                    ha_binning=False)\n",
    "\n",
    "\n",
    "aggregate_walkers = len([j for i in xtrj for j in i])\n",
    "print(f\"simulation steps:\\n Aggregate: {nsteps*aggregate_walkers} \\n Molecular: {nsteps*nrounds}\")\n",
    "\n",
    "x, p, xs, es = weighted_ensemble_2.landscape_recovery(xtrj, wtrj, binbounds, transitions, hamsm_transitions, n_trans_by_round, nrounds, n_macrostates, system1.potential, system1.macro_class, kT)\n",
    "metrics = energy_landscapes.landscape_comparison(system1, kT, x, p, metrics = [\"maew\"])\n",
    "\n"
   ]
  },
  {
   "cell_type": "code",
   "execution_count": null,
   "id": "6aedcb94-9016-4218-9f72-cfee0105b668",
   "metadata": {},
   "outputs": [],
   "source": [
    "msm_tpm, states_in_order = MSM_methods.transitions_2_msm(transitions)\n",
    "msm_eqp = MSM_methods.tpm_2_eqprobs(msm_tpm)"
   ]
  },
  {
   "cell_type": "code",
   "execution_count": null,
   "id": "4feb2021",
   "metadata": {},
   "outputs": [],
   "source": [
    "plt.imshow(msm_tpm)\n",
    "plt.show()\n",
    "plt.plot(msm_eqp)"
   ]
  },
  {
   "cell_type": "code",
   "execution_count": null,
   "id": "6736d2c2",
   "metadata": {},
   "outputs": [],
   "source": []
  }
 ],
 "metadata": {
  "kernelspec": {
   "display_name": "serpents",
   "language": "python",
   "name": "python3"
  },
  "language_info": {
   "codemirror_mode": {
    "name": "ipython",
    "version": 3
   },
   "file_extension": ".py",
   "mimetype": "text/x-python",
   "name": "python",
   "nbconvert_exporter": "python",
   "pygments_lexer": "ipython3",
   "version": "3.11.10"
  }
 },
 "nbformat": 4,
 "nbformat_minor": 5
}
