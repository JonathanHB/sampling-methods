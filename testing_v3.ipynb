{
 "cells": [
  {
   "cell_type": "code",
   "execution_count": null,
   "id": "7a123020-0129-4a64-a89a-bd052129b67b",
   "metadata": {},
   "outputs": [],
   "source": [
    "import propagators\n",
    "import energy_landscapes\n",
    "import energy_landscapes_gaussian\n",
    "import long_simulation\n",
    "import weighted_ensemble_2\n",
    "import numpy as np\n",
    "import MSM_methods\n",
    "import analysis\n",
    "\n",
    "import matplotlib.pyplot as plt\n",
    "import importlib\n",
    "\n",
    "#methods for fast print debugging\n",
    "def p(x):\n",
    "    print(x)\n",
    "def pl(x):\n",
    "    print(len(x))\n",
    "def ps(x):\n",
    "    print(x.shape)\n",
    "\n",
    "kT = 1\n",
    "dt = 0.001\n",
    "n_analysis_bins = 50\n",
    "save_period = 100 #in steps\n",
    "aggregate_simulation_limit = 10000000\n",
    "#nsteps = 100000\n",
    "n_parallel = 1000\n",
    "n_bootstrap = 3\n",
    "\n",
    "system1 = energy_landscapes.unit_double_well()\n",
    "system1.plot_quantity(system1.potential)\n",
    "system1.plot_quantity(system1.F)\n",
    "#system1.analysis_bins(40)\n"
   ]
  },
  {
   "cell_type": "code",
   "execution_count": null,
   "id": "4a7e1a50",
   "metadata": {},
   "outputs": [],
   "source": [
    "importlib.reload(analysis)\n",
    "importlib.reload(long_simulation)\n",
    "#importlib.reload(weighted_ensemble_2)\n",
    "importlib.reload(propagators)\n",
    "importlib.reload(energy_landscapes_gaussian)\n",
    "importlib.reload(energy_landscapes)\n",
    "\n",
    "\n",
    "#long_simulation.long_simulation_histogram_analysis, long_simulation.long_simulation_hamsm_analysis, weighted_ensemble_2.weighted_ensemble_hamsm_analysis\n",
    "mfpts_all, populations_all = analysis.bootstrap_method_comparison(3, [long_simulation.long_simulation_histogram_analysis, long_simulation.long_simulation_hamsm_analysis], system1, kT, dt, aggregate_simulation_limit, n_parallel, save_period, n_analysis_bins)\n",
    "\n",
    "analysis.plot_bootstrapping_results(populations_all, system1, kT, n_analysis_bins)\n",
    "\n",
    "#TODO implement MFPT comparison\n",
    "#TODO fast synthetic trajectories\n",
    "#TODO clean up codebase generally; move this to v3 and then delete code below; make another notebook for synthetic trajectory development"
   ]
  },
  {
   "cell_type": "code",
   "execution_count": null,
   "id": "aa84d69a",
   "metadata": {},
   "outputs": [],
   "source": []
  },
  {
   "cell_type": "code",
   "execution_count": null,
   "id": "07c75e4c",
   "metadata": {},
   "outputs": [],
   "source": []
  }
 ],
 "metadata": {
  "kernelspec": {
   "display_name": "serpents",
   "language": "python",
   "name": "python3"
  },
  "language_info": {
   "codemirror_mode": {
    "name": "ipython",
    "version": 3
   },
   "file_extension": ".py",
   "mimetype": "text/x-python",
   "name": "python",
   "nbconvert_exporter": "python",
   "pygments_lexer": "ipython3",
   "version": "3.11.10"
  }
 },
 "nbformat": 4,
 "nbformat_minor": 5
}
