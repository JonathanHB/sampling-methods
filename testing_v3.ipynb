{
 "cells": [
  {
   "cell_type": "code",
   "execution_count": 1,
   "id": "7a123020-0129-4a64-a89a-bd052129b67b",
   "metadata": {},
   "outputs": [],
   "source": [
    "import propagators\n",
    "import energy_landscapes\n",
    "import energy_landscapes_gaussian\n",
    "import long_simulation\n",
    "import weighted_ensemble_3\n",
    "import numpy as np\n",
    "import MSM_methods\n",
    "import analysis\n",
    "import metadynamics\n",
    "\n",
    "import matplotlib.pyplot as plt\n",
    "import importlib\n",
    "\n",
    "#methods for fast print debugging\n",
    "def p(x):\n",
    "    print(x)\n",
    "def pl(x):\n",
    "    print(len(x))\n",
    "def ps(x):\n",
    "    print(x.shape)\n"
   ]
  },
  {
   "cell_type": "code",
   "execution_count": 2,
   "id": "04aaf7b6",
   "metadata": {},
   "outputs": [],
   "source": [
    "#shared parameters\n",
    "\n",
    "kT = 1\n",
    "dt = 0.001\n",
    "n_analysis_bins = 50\n",
    "save_period = 100 #in steps\n",
    "aggregate_simulation_limit = 100000\n",
    "molecular_time_limit = 1000\n",
    "n_bootstrap = 3\n",
    "\n",
    "#energy_landscapes.unit_double_well()\n",
    "# system1.plot_quantity(system1.potential)\n",
    "# plt.show()\n",
    "\n",
    "system1 = energy_landscapes_gaussian.two_wells_decoy_valley()\n",
    "\n",
    "\n",
    "#TODO: we need to add a way to model methods that serially use a single core to mimic parallel computations (i.e. if you tried to run WESTPA on one GPU core)\n",
    "\n",
    "#hardware/real world objects:\n",
    "# GPUs, wall clock hours, aggregate GPU hours\n",
    "#if we're trying to model a commercial cluster where we can buy as many gpus as we want at any one time but have to pay per GPU hour, wall clock time and aggregate GPU hours are the relevant metrics\n",
    "#if we're trying to model a lab cluster where we have a fixed number of GPUs and a fixed amount of time to publish and graduate, the number of GPUs and wall clock time are the relevant metrics\n",
    "\n",
    "#simulation parameters (both are maximum values):\n",
    "# aggregate simulation time, molecular time\n",
    "# AKA (how much the simulation costs, how much time it adds to your PhD)\n",
    "\n"
   ]
  },
  {
   "cell_type": "code",
   "execution_count": null,
   "id": "4a7e1a50",
   "metadata": {},
   "outputs": [
    {
     "name": "stdout",
     "output_type": "stream",
     "text": [
      "<function long_simulation_histogram_analysis at 0x7f890ba59e10>\n",
      "replicate 0\n",
      "200 steps\n",
      "100 parallel simulations\n",
      "replicate 1\n",
      "200 steps\n",
      "100 parallel simulations\n",
      "replicate 2\n",
      "200 steps\n",
      "100 parallel simulations\n",
      "[[-2.4807407   0.        ]\n",
      " [-2.4807407   1.29614814]\n",
      " [-1.18459256 -1.29614814]\n",
      " [-1.18459256  0.        ]\n",
      " [-1.18459256  1.29614814]\n",
      " [-1.18459256  2.59229628]\n",
      " [ 0.11155558 -2.59229628]\n",
      " [ 0.11155558 -1.29614814]\n",
      " [ 0.11155558  0.        ]\n",
      " [ 0.11155558  1.29614814]\n",
      " [ 0.11155558  2.59229628]\n",
      " [ 1.40770372 -2.59229628]\n",
      " [ 1.40770372 -1.29614814]\n",
      " [ 1.40770372  0.        ]\n",
      " [ 1.40770372  1.29614814]\n",
      " [ 1.40770372  2.59229628]\n",
      " [ 2.70385186 -2.59229628]\n",
      " [ 2.70385186 -1.29614814]\n",
      " [ 2.70385186  1.29614814]\n",
      " [ 2.70385186  2.59229628]\n",
      " [ 4.         -2.59229628]\n",
      " [ 4.         -1.29614814]\n",
      " [ 4.          1.29614814]\n",
      " [ 4.          2.59229628]\n",
      " [ 5.29614814 -2.59229628]\n",
      " [ 5.29614814 -1.29614814]\n",
      " [ 5.29614814  0.        ]\n",
      " [ 5.29614814  1.29614814]\n",
      " [ 5.29614814  2.59229628]\n",
      " [ 6.59229628 -1.29614814]\n",
      " [ 6.59229628  0.        ]\n",
      " [ 6.59229628  1.29614814]\n",
      " [ 6.59229628  2.59229628]\n",
      " [ 7.88844442 -2.59229628]\n",
      " [ 7.88844442 -1.29614814]\n",
      " [ 7.88844442  0.        ]\n",
      " [ 7.88844442  1.29614814]\n",
      " [ 7.88844442  2.59229628]\n",
      " [ 9.18459256 -1.29614814]\n",
      " [ 9.18459256  0.        ]\n",
      " [ 9.18459256  1.29614814]\n",
      " [10.4807407   0.        ]]\n",
      "[-2.4807407  0.       ]\n",
      "[(-1.1845925587262882, -1.2961481396815722), (-1.1845925587262882, 0.0), (-1.1845925587262882, 1.2961481396815717), (0.11155558095528395, -2.5922962793631443), (0.11155558095528395, -1.2961481396815722), (0.11155558095528395, 0.0), (0.11155558095528395, 1.2961481396815717), (0.11155558095528395, 2.5922962793631434), (1.4077037206368566, -2.5922962793631443), (1.4077037206368566, -1.2961481396815722), (1.4077037206368566, 0.0), (1.4077037206368566, 1.2961481396815717), (1.4077037206368566, 2.5922962793631434), (2.703851860318429, -2.5922962793631443), (2.703851860318429, -1.2961481396815722), (2.703851860318429, 1.2961481396815717), (2.703851860318429, 2.5922962793631434), (4.000000000000001, -2.5922962793631443), (4.000000000000001, -1.2961481396815722), (4.000000000000001, 1.2961481396815717), (4.000000000000001, 2.5922962793631434), (5.296148139681574, -2.5922962793631443), (5.296148139681574, -1.2961481396815722), (5.296148139681574, 1.2961481396815717), (5.296148139681574, 2.5922962793631434), (6.592296279363146, -1.2961481396815722), (6.592296279363146, 0.0), (6.592296279363146, 1.2961481396815717), (6.592296279363146, 2.5922962793631434), (7.888444419044718, -1.2961481396815722), (7.888444419044718, 0.0), (7.888444419044718, 1.2961481396815717), (7.888444419044718, 2.5922962793631434), (9.18459255872629, -1.2961481396815722), (9.18459255872629, 0.0), (9.18459255872629, 1.2961481396815717), (10.480740698407864, 0.0)]\n",
      "[-2.4807407  0.       ]\n",
      "[(-2.4807406984078604, 0.0), (-1.1845925587262882, -1.2961481396815722), (-1.1845925587262882, 0.0), (-1.1845925587262882, 1.2961481396815717), (-1.1845925587262882, 2.5922962793631434), (0.11155558095528395, -2.5922962793631443), (0.11155558095528395, -1.2961481396815722), (0.11155558095528395, 0.0), (0.11155558095528395, 1.2961481396815717), (0.11155558095528395, 2.5922962793631434), (1.4077037206368566, -2.5922962793631443), (1.4077037206368566, -1.2961481396815722), (1.4077037206368566, 0.0), (1.4077037206368566, 1.2961481396815717), (1.4077037206368566, 2.5922962793631434), (2.703851860318429, -2.5922962793631443), (2.703851860318429, -1.2961481396815722), (2.703851860318429, 1.2961481396815717), (2.703851860318429, 2.5922962793631434), (4.000000000000001, -2.5922962793631443), (4.000000000000001, -1.2961481396815722), (4.000000000000001, 1.2961481396815717), (4.000000000000001, 2.5922962793631434), (5.296148139681574, -2.5922962793631443), (5.296148139681574, -1.2961481396815722), (5.296148139681574, 0.0), (5.296148139681574, 1.2961481396815717), (5.296148139681574, 2.5922962793631434), (6.592296279363146, -1.2961481396815722), (6.592296279363146, 0.0), (6.592296279363146, 1.2961481396815717), (6.592296279363146, 2.5922962793631434), (7.888444419044718, -2.5922962793631443), (7.888444419044718, -1.2961481396815722), (7.888444419044718, 0.0), (7.888444419044718, 1.2961481396815717), (7.888444419044718, 2.5922962793631434), (9.18459255872629, -1.2961481396815722), (9.18459255872629, 0.0), (9.18459255872629, 1.2961481396815717)]\n"
     ]
    },
    {
     "ename": "TypeError",
     "evalue": "only integer scalar arrays can be converted to a scalar index",
     "output_type": "error",
     "traceback": [
      "\u001b[0;31m---------------------------------------------------------------------------\u001b[0m",
      "\u001b[0;31mTypeError\u001b[0m                                 Traceback (most recent call last)",
      "Cell \u001b[0;32mIn[17], line 13\u001b[0m\n\u001b[1;32m      8\u001b[0m importlib\u001b[39m.\u001b[39mreload(metadynamics)\n\u001b[1;32m     10\u001b[0m \u001b[39m#system1 = energy_landscapes_gaussian.two_wells_decoy_valley()\u001b[39;00m\n\u001b[1;32m     11\u001b[0m \n\u001b[1;32m     12\u001b[0m \u001b[39m#long_simulation.long_simulation_histogram_analysis, long_simulation.long_simulation_hamsm_analysis, weighted_ensemble_2.weighted_ensemble_hamsm_analysis\u001b[39;00m\n\u001b[0;32m---> 13\u001b[0m mfpts_all, populations_all, agg_t_maew_all \u001b[39m=\u001b[39m analysis\u001b[39m.\u001b[39;49mbootstrap_method_comparison(\n\u001b[1;32m     14\u001b[0m     \u001b[39m3\u001b[39;49m, \n\u001b[1;32m     15\u001b[0m     [long_simulation\u001b[39m.\u001b[39;49mlong_simulation_histogram_analysis],\n\u001b[1;32m     16\u001b[0m     \u001b[39m#  long_simulation.long_simulation_histogram_analysis_mtd, \u001b[39;49;00m\n\u001b[1;32m     17\u001b[0m     \u001b[39m#  long_simulation.long_simulation_msm_analysis, \u001b[39;49;00m\n\u001b[1;32m     18\u001b[0m     \u001b[39m#  weighted_ensemble_3.weighted_ensemble_msm_analysis], \u001b[39;49;00m\n\u001b[1;32m     19\u001b[0m     system1, kT, dt, \n\u001b[1;32m     20\u001b[0m     aggregate_simulation_limit, molecular_time_limit, save_period, \n\u001b[1;32m     21\u001b[0m     n_analysis_bins, n_timepoints\u001b[39m=\u001b[39;49m\u001b[39m5\u001b[39;49m)\n\u001b[1;32m     23\u001b[0m analysis\u001b[39m.\u001b[39mplot_bootstrapping_results(populations_all, system1, kT, n_analysis_bins)\n\u001b[1;32m     24\u001b[0m plt\u001b[39m.\u001b[39mshow()\n",
      "File \u001b[0;32m~/Documents/grabelab/methods-development/sampling-methods/analysis.py:451\u001b[0m, in \u001b[0;36mbootstrap_method_comparison\u001b[0;34m(n_bootstrap, analysis_methods, system, kT, dt, aggregate_simulation_limit, n_parallel, save_period, n_analysis_bins, n_timepoints)\u001b[0m\n\u001b[1;32m    449\u001b[0m     \u001b[39mprint\u001b[39m(method_c)\n\u001b[1;32m    450\u001b[0m     \u001b[39mif\u001b[39;00m \u001b[39mtuple\u001b[39m(mc) \u001b[39min\u001b[39;00m method_c:\n\u001b[0;32m--> 451\u001b[0m         probs_c\u001b[39m.\u001b[39mappend(method_probabilities[i][np\u001b[39m.\u001b[39;49mwhere(method_c \u001b[39m==\u001b[39;49m \u001b[39mtuple\u001b[39;49m(mc))[\u001b[39m0\u001b[39;49m][\u001b[39m0\u001b[39;49m]])\n\u001b[1;32m    453\u001b[0m mean_probs\u001b[39m.\u001b[39mappend(np\u001b[39m.\u001b[39mmean(probs_c))\n\u001b[1;32m    455\u001b[0m \u001b[39m#standard deviation (dispersion, not a confidence interval) of estimates; \u001b[39;00m\n\u001b[1;32m    456\u001b[0m \u001b[39m# states for which probabilities were estimated only once are denoted with -1 as no standard deviation can be estimated\u001b[39;00m\n",
      "\u001b[0;31mTypeError\u001b[0m: only integer scalar arrays can be converted to a scalar index"
     ]
    }
   ],
   "source": [
    "importlib.reload(analysis)\n",
    "importlib.reload(long_simulation)\n",
    "importlib.reload(weighted_ensemble_3)\n",
    "importlib.reload(propagators)\n",
    "importlib.reload(energy_landscapes_gaussian)\n",
    "importlib.reload(energy_landscapes)\n",
    "importlib.reload(MSM_methods)\n",
    "importlib.reload(metadynamics)\n",
    "\n",
    "#system1 = energy_landscapes_gaussian.two_wells_decoy_valley()\n",
    "\n",
    "#long_simulation.long_simulation_histogram_analysis, long_simulation.long_simulation_hamsm_analysis, weighted_ensemble_2.weighted_ensemble_hamsm_analysis\n",
    "mfpts_all, populations_all, agg_t_maew_all = analysis.bootstrap_method_comparison(\n",
    "    3, \n",
    "    [long_simulation.long_simulation_histogram_analysis],\n",
    "    #  long_simulation.long_simulation_histogram_analysis_mtd, \n",
    "    #  long_simulation.long_simulation_msm_analysis, \n",
    "    #  weighted_ensemble_3.weighted_ensemble_msm_analysis], \n",
    "    system1, kT, dt, \n",
    "    aggregate_simulation_limit, molecular_time_limit, save_period, \n",
    "    n_analysis_bins, n_timepoints=5)\n",
    "\n",
    "analysis.plot_bootstrapping_results(populations_all, system1, kT, n_analysis_bins)\n",
    "plt.show()\n",
    "analysis.plot_convergence(agg_t_maew_all)\n",
    "plt.show()\n",
    "\n",
    "#TODO implement MFPT comparison\n",
    "#TODO fast synthetic trajectories\n",
    "#TODO compare MSMs built with and without weights"
   ]
  },
  {
   "cell_type": "code",
   "execution_count": null,
   "id": "aa84d69a",
   "metadata": {},
   "outputs": [],
   "source": []
  },
  {
   "cell_type": "code",
   "execution_count": 12,
   "id": "07c75e4c",
   "metadata": {},
   "outputs": [
    {
     "name": "stdout",
     "output_type": "stream",
     "text": [
      "[(0, 1), (2, 3)]\n",
      "True\n"
     ]
    }
   ],
   "source": [
    "a = [(0,1),(2,3)]\n",
    "print(a)\n",
    "\n",
    "b = (0,1)\n",
    "print(b in a)"
   ]
  },
  {
   "cell_type": "code",
   "execution_count": 13,
   "id": "9987f4f5",
   "metadata": {},
   "outputs": [
    {
     "name": "stdout",
     "output_type": "stream",
     "text": [
      "[0, 1]\n",
      "(0, 1)\n"
     ]
    }
   ],
   "source": [
    "b = [0,1]\n",
    "print(b)\n",
    "print(tuple(b))"
   ]
  },
  {
   "cell_type": "code",
   "execution_count": null,
   "id": "876449a1",
   "metadata": {},
   "outputs": [],
   "source": []
  }
 ],
 "metadata": {
  "kernelspec": {
   "display_name": "serpents",
   "language": "python",
   "name": "python3"
  },
  "language_info": {
   "codemirror_mode": {
    "name": "ipython",
    "version": 3
   },
   "file_extension": ".py",
   "mimetype": "text/x-python",
   "name": "python",
   "nbconvert_exporter": "python",
   "pygments_lexer": "ipython3",
   "version": "3.10.13"
  }
 },
 "nbformat": 4,
 "nbformat_minor": 5
}
