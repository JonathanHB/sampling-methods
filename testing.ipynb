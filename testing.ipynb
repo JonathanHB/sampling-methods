{
 "cells": [
  {
   "cell_type": "code",
   "execution_count": null,
   "id": "7a123020-0129-4a64-a89a-bd052129b67b",
   "metadata": {},
   "outputs": [],
   "source": [
    "import propagators\n",
    "import energy_landscapes\n",
    "import long_simulation\n",
    "import weighted_ensemble\n",
    "import numpy as np\n",
    "\n",
    "kT = 1\n",
    "x_init_coord = -1/np.sqrt(2)\n",
    "dt = 0.001\n",
    "nsteps = 10000\n",
    "save_period = 10 #in steps\n",
    "n_parallel = 10\n",
    "nbins = 40\n",
    "system1 = energy_landscapes.unit_double_well()\n"
   ]
  },
  {
   "cell_type": "code",
   "execution_count": null,
   "id": "7a18ae26-52f4-480c-9fa1-bef17ada2234",
   "metadata": {},
   "outputs": [],
   "source": [
    "#system1.plot_quantity(system1.potential)\n",
    "xd, ed, rp = long_simulation.recover_energy_landscape(propagators.propagate_nd, system1, kT, x_init_coord, dt, nsteps, save_period, n_parallel, nbins)\n",
    "print(f\"simulation steps:\\n Aggregate: {nsteps*n_parallel} \\n Molecular: {nsteps}\")\n"
   ]
  },
  {
   "cell_type": "code",
   "execution_count": null,
   "id": "a9d739c4-3d31-445b-9b96-141ba12db408",
   "metadata": {},
   "outputs": [],
   "source": [
    "#Weighted ensemble (WE) parameters and inputs\n",
    "\n",
    "N = 80             #total number of walkers within binrange\n",
    "nbins = 40         #total number of bins within binrange\n",
    "binrange = [-1.5,1.5] #progress coordinate range within which to bin simulations\n",
    "                    #this should extend well past the stall point for examination of the WE stall force\n",
    "                    #the area past either end of binrange is a bin extending to either + or - inf, yielding a total of nbins+2 bins\n",
    "n_macrostates=2\n",
    "        \n",
    "nsteps = 200        #round length\n",
    "nrounds = 50        #number of WE rounds to run\n",
    "\n",
    "walkers_per_bin = round(N/nbins)\n",
    "print(f\"Each bin can hold up to {walkers_per_bin} walkers, for a total of up to {walkers_per_bin*(nbins+2)} walkers\")\n",
    "\n",
    "#start 1 bin worth of walkers at x=0 with equal weights\n",
    "x_init = np.array([-1/np.sqrt(2) for element in range(walkers_per_bin)])\n",
    "w_init = [1/walkers_per_bin for element in range(walkers_per_bin)]\n",
    "\n",
    "#run weighted ensemble with brownian dynamics\n",
    "#put this on multiple lines\n",
    "x_init, e_init, w_init, binbounds, xtrj, etrj, wtrj, transitions, hamsm_transitions, n_trans_by_round \\\n",
    "= weighted_ensemble.weighted_ensemble(\\\n",
    "                    x_init,\\\n",
    "                    w_init,\\\n",
    "                    nrounds,\\\n",
    "                    nbins,\\\n",
    "                    walkers_per_bin,\\\n",
    "                    binrange, propagators.propagate_nd_save1,\\\n",
    "                    [system1, kT, dt, nsteps],\\\n",
    "                    system1.macro_class,\\\n",
    "                    n_macrostates,\\\n",
    "                    ha_binning=False)\n",
    "\n",
    "\n",
    "weighted_ensemble.landscape_recovery(xtrj, wtrj, binbounds, transitions, hamsm_transitions, n_trans_by_round, nrounds, n_macrostates, system1.potential, system1.macro_class, kT)\n",
    "\n",
    "aggregate_walkers = len([j for i in xtrj for j in i])\n",
    "print(f\"simulation steps:\\n Aggregate: {nsteps*aggregate_walkers} \\n Molecular: {nsteps*nrounds}\")\n"
   ]
  },
  {
   "cell_type": "code",
   "execution_count": null,
   "id": "136e63a7-16dd-45f0-b2f2-985eab2fb4b9",
   "metadata": {},
   "outputs": [],
   "source": [
    "w_trj_flat = [j for i in wtrj for j in i]\n",
    "import matplotlib.pyplot as plt\n",
    "plt.hist(w_trj_flat)\n",
    "#more aggressive methods are needed to keep walker weights in a reasonable range"
   ]
  },
  {
   "cell_type": "code",
   "execution_count": null,
   "id": "0a552b46-c442-4b42-a803-6b9dd663b702",
   "metadata": {},
   "outputs": [],
   "source": [
    "a = sorted(w_trj_flat)\n",
    "print(a)\n",
    "a.reverse()\n",
    "print(a)"
   ]
  },
  {
   "cell_type": "code",
   "execution_count": null,
   "id": "80e2a904-1942-4389-b492-31758f625057",
   "metadata": {},
   "outputs": [],
   "source": [
    "plt.plot([sum(a[0:i]) for i in range(len(a))])"
   ]
  },
  {
   "cell_type": "code",
   "execution_count": null,
   "id": "90550fec-411d-4866-b0e0-13d434009efa",
   "metadata": {},
   "outputs": [],
   "source": [
    "a = [1,.5,3]\n",
    "np.argsort(a)"
   ]
  },
  {
   "cell_type": "code",
   "execution_count": null,
   "id": "cd1d1c51-74fa-43db-914a-ed2eb0462fe3",
   "metadata": {},
   "outputs": [],
   "source": []
  }
 ],
 "metadata": {
  "kernelspec": {
   "display_name": "Python 3 (ipykernel)",
   "language": "python",
   "name": "python3"
  },
  "language_info": {
   "codemirror_mode": {
    "name": "ipython",
    "version": 3
   },
   "file_extension": ".py",
   "mimetype": "text/x-python",
   "name": "python",
   "nbconvert_exporter": "python",
   "pygments_lexer": "ipython3",
   "version": "3.11.10"
  }
 },
 "nbformat": 4,
 "nbformat_minor": 5
}
