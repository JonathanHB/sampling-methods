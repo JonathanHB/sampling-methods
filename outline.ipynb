{
 "cells": [
  {
   "cell_type": "code",
   "execution_count": null,
   "id": "e89bc31d-a25e-40ff-8ce3-67462e8e0fd2",
   "metadata": {},
   "outputs": [],
   "source": [
    "#Jonathan Borowsky\n",
    "#1/29/25\n",
    "#sampling methods"
   ]
  },
  {
   "cell_type": "code",
   "execution_count": null,
   "id": "42d24fb2-f110-4cee-8d18-11c888155c56",
   "metadata": {},
   "outputs": [],
   "source": [
    "outline in pseudocode\n",
    "main\n",
    "    import energy_landscapes\n",
    "    import propagators\n",
    "    import sampling_method_1\n",
    "    import sampling_method_2\n",
    "    import sampling_method_...\n",
    "    #import progress_coordinates #not yet written; where to draw the line between this and the sampling method is unclear\n",
    "    import comparison_methods #includes plotting methods\n",
    "\n",
    "comparison_methods.compare_something([energy_landscapes.l1, energy_landscapes.l2], \n",
    "                                     propagators.p1, \n",
    "                                     [sampling_method_1, sampling_method_2, ...], \n",
    "                                     progress_coordinate.pc,\n",
    "                                     cutoff_type = 'molecular_time', \n",
    "                                     cutoff = 10ns\n",
    "                                     n_replicates = 3)\n",
    "\n",
    "def compare_something:\n",
    "    for ls in args[0]:\n",
    "        #landscape_ests = []\n",
    "        for sm in args[2]:\n",
    "            sm_ests = []\n",
    "            for r in range(n_replicates):\n",
    "                sm_ests.append(sm(ls, p1, pc, cutoff_type, cutoff))\n",
    "            #landscape_ests.append(sm_ests)\n",
    "            \n",
    "            comparison_methods.numerical_comparison(ls, sm_ests, other_ground_truths (i.e. kinetics from long simulations))\n",
    "            comparison_methods.plotting_methods(ls, sm_ests, other_ground_truths (i.e. kinetics from long simulations))\n",
    "                    "
   ]
  },
  {
   "cell_type": "code",
   "execution_count": null,
   "id": "68d84870-71ca-40dd-b6a3-273fa81910a0",
   "metadata": {},
   "outputs": [],
   "source": [
    "What do we want to be able to compute for each method?:\n",
    "                                     \n",
    "1. energy landscape as a function of some progress coordinate vs real landscape based on PMF only: \n",
    "    inputs: trajectory, \n",
    "            weights if applicable, \n",
    "            progress coordinate, \n",
    "            real landscape\n",
    "\n",
    "2. energy landscape as a function of some progress coordinate vs real landscape based on MSM: \n",
    "    inputs: trajectory, \n",
    "            MSM construction parameters(lag time, binning algorithm and its parameters, etc),\n",
    "            weights if applicable, \n",
    "            progress coordinate, \n",
    "            real landscape\n",
    "\n",
    "3. MFPT between arbitrary macrostates based on complete transitions and weights only\n",
    "    inputs: trajectory,\n",
    "            weights if applicable, \n",
    "            macrostate classifier\n",
    "            \n",
    "4. MFPT between arbitrary macrostates based on MSM\n",
    "    inputs: trajectory,\n",
    "            MSM construction parameters(lag time, binning algorithm and its parameters, etc),\n",
    "            weights if applicable, \n",
    "            macrostate_classifier,\n",
    "            progress coordinate if used for binning\n"
   ]
  },
  {
   "cell_type": "code",
   "execution_count": null,
   "id": "91e28d5b-cd32-4608-a9e5-28cd3242c605",
   "metadata": {},
   "outputs": [],
   "source": [
    "import propagators\n",
    "import energy_landscapes\n",
    "import long_simulation\n"
   ]
  },
  {
   "cell_type": "code",
   "execution_count": null,
   "id": "f370fc9b-48e5-4803-8f04-f5240f132848",
   "metadata": {},
   "outputs": [],
   "source": [
    "kT = 1\n",
    "x_init_coord = 0\n",
    "dt = 0.001\n",
    "nsteps = 1000\n",
    "save_period = 100\n",
    "n_parallel = 4\n",
    "nbins = 10\n",
    "system1 = energy_landscapes.unit_double_well()\n",
    "\n",
    "landscape = long_simulation.recover_energy_landscape(propagators.propagate_nd, system1, kT, x_init_coord, dt, nsteps, save_period, n_parallel, nbins)\n"
   ]
  },
  {
   "cell_type": "code",
   "execution_count": null,
   "id": "09226c22-82dc-44c7-b334-6ea3ea99de96",
   "metadata": {},
   "outputs": [],
   "source": [
    "#run dynamics and recover the landscape\n",
    "#steps per round\n",
    "nsteps = 1000\n",
    "#number of rounds\n",
    "nrounds = 100000\n",
    "\n",
    "nbins = 101\n",
    "x_init_coord = -8\n",
    "n_parallel = 1\n",
    "\n",
    "#note that e_data here refers to energies, not ensembles\n",
    "x_data, e_data, recorded_positions = long_simulation.recover_energy_landscape(fewwell_force, D, kT, dt, nsteps, nrounds, nbins, x_init_coord, n_parallel)"
   ]
  }
 ],
 "metadata": {
  "kernelspec": {
   "display_name": "Python 3 (ipykernel)",
   "language": "python",
   "name": "python3"
  },
  "language_info": {
   "codemirror_mode": {
    "name": "ipython",
    "version": 3
   },
   "file_extension": ".py",
   "mimetype": "text/x-python",
   "name": "python",
   "nbconvert_exporter": "python",
   "pygments_lexer": "ipython3",
   "version": "3.11.10"
  }
 },
 "nbformat": 4,
 "nbformat_minor": 5
}
