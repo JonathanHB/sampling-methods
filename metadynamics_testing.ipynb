{
 "cells": [
  {
   "cell_type": "code",
   "execution_count": 3,
   "metadata": {},
   "outputs": [],
   "source": [
    "import importlib\n",
    "import energy_landscapes\n",
    "import metadynamics\n",
    "import importlib\n",
    "import numpy as np\n",
    "import matplotlib.pyplot as plt"
   ]
  },
  {
   "cell_type": "code",
   "execution_count": 67,
   "metadata": {},
   "outputs": [
    {
     "data": {
      "text/plain": [
       "[<matplotlib.lines.Line2D at 0x7fca702a3220>]"
      ]
     },
     "execution_count": 67,
     "metadata": {},
     "output_type": "execute_result"
    },
    {
     "data": {
      "image/png": "[encoded data removed]",
      "text/plain": [
       "<Figure size 640x480 with 1 Axes>"
      ]
     },
     "metadata": {},
     "output_type": "display_data"
    }
   ],
   "source": [
    "importlib.reload(metadynamics)\n",
    "\n",
    "n_analysis_bins = 50\n",
    "system1 = energy_landscapes.unit_sine_well()\n",
    "\n",
    "grid = metadynamics.grid(system1.standard_analysis_range, n_analysis_bins)\n",
    "\n",
    "plt.plot(grid.grid)\n",
    "\n",
    "grid.update([[10],[-10]], [.1,.3])\n",
    "\n",
    "plt.plot(grid.grid)"
   ]
  },
  {
   "cell_type": "code",
   "execution_count": 65,
   "metadata": {},
   "outputs": [
    {
     "data": {
      "text/plain": [
       "[(-20.4,),\n",
       " (-19.599999999999998,),\n",
       " (-18.799999999999997,),\n",
       " (-18.0,),\n",
       " (-17.2,),\n",
       " (-16.4,),\n",
       " (-15.599999999999998,),\n",
       " (-14.799999999999999,),\n",
       " (-14.0,),\n",
       " (-13.2,),\n",
       " (-12.399999999999999,),\n",
       " (-11.6,),\n",
       " (-10.799999999999999,),\n",
       " (-10.0,),\n",
       " (-9.2,),\n",
       " (-8.4,),\n",
       " (-7.6,),\n",
       " (-6.799999999999999,),\n",
       " (-6.0,),\n",
       " (-5.199999999999999,),\n",
       " (-4.4,),\n",
       " (-3.6000000000000014,),\n",
       " (-2.8000000000000007,),\n",
       " (-2.0,),\n",
       " (-1.1999999999999993,),\n",
       " (-0.3999999999999986,),\n",
       " (0.3999999999999986,),\n",
       " (1.1999999999999993,),\n",
       " (2.0,),\n",
       " (2.8000000000000007,),\n",
       " (3.599999999999998,),\n",
       " (4.399999999999999,),\n",
       " (5.199999999999999,),\n",
       " (6.0,),\n",
       " (6.800000000000001,),\n",
       " (7.599999999999998,),\n",
       " (8.399999999999999,),\n",
       " (9.2,),\n",
       " (10.0,),\n",
       " (10.799999999999997,),\n",
       " (11.599999999999998,),\n",
       " (12.399999999999999,),\n",
       " (13.199999999999996,),\n",
       " (14.0,),\n",
       " (14.799999999999997,),\n",
       " (15.600000000000001,),\n",
       " (16.4,),\n",
       " (17.199999999999996,),\n",
       " (18.0,),\n",
       " (18.799999999999997,),\n",
       " (19.6,),\n",
       " (20.4,)]"
      ]
     },
     "execution_count": 65,
     "metadata": {},
     "output_type": "execute_result"
    }
   ],
   "source": [
    "grid.bincenters"
   ]
  },
  {
   "cell_type": "code",
   "execution_count": 26,
   "metadata": {},
   "outputs": [
    {
     "ename": "SyntaxError",
     "evalue": "closing parenthesis ')' does not match opening parenthesis '[' (metadynamics.py, line 99)",
     "output_type": "error",
     "traceback": [
      "Traceback \u001b[0;36m(most recent call last)\u001b[0m:\n",
      "\u001b[0m  File \u001b[1;32m/opt/anaconda3/envs/grabelab/lib/python3.10/site-packages/IPython/core/interactiveshell.py:3526\u001b[0m in \u001b[1;35mrun_code\u001b[0m\n    exec(code_obj, self.user_global_ns, self.user_ns)\u001b[0m\n",
      "\u001b[0m  Cell \u001b[1;32mIn[26], line 1\u001b[0m\n    importlib.reload(metadynamics)\u001b[0m\n",
      "\u001b[0m  File \u001b[1;32m/opt/anaconda3/envs/grabelab/lib/python3.10/importlib/__init__.py:169\u001b[0m in \u001b[1;35mreload\u001b[0m\n    _bootstrap._exec(spec, module)\u001b[0m\n",
      "\u001b[0m  File \u001b[1;32m<frozen importlib._bootstrap>:619\u001b[0m in \u001b[1;35m_exec\u001b[0m\n",
      "\u001b[0m  File \u001b[1;32m<frozen importlib._bootstrap_external>:879\u001b[0m in \u001b[1;35mexec_module\u001b[0m\n",
      "\u001b[0m  File \u001b[1;32m<frozen importlib._bootstrap_external>:1017\u001b[0m in \u001b[1;35mget_code\u001b[0m\n",
      "\u001b[0m  File \u001b[1;32m<frozen importlib._bootstrap_external>:947\u001b[0m in \u001b[1;35msource_to_code\u001b[0m\n",
      "\u001b[0;36m  File \u001b[0;32m<frozen importlib._bootstrap>:241\u001b[0;36m in \u001b[0;35m_call_with_frames_removed\u001b[0;36m\n",
      "\u001b[0;36m  File \u001b[0;32m~/Documents/grabelab/methods-development/sampling-methods/metadynamics.py:99\u001b[0;36m\u001b[0m\n\u001b[0;31m    grid_coords = itertools.product([[r for r in range(nbi)] for nbi in self.nbins)])\u001b[0m\n\u001b[0m                                                                                  ^\u001b[0m\n\u001b[0;31mSyntaxError\u001b[0m\u001b[0;31m:\u001b[0m closing parenthesis ')' does not match opening parenthesis '['\n"
     ]
    }
   ],
   "source": [
    "importlib.reload(metadynamics)\n",
    "\n",
    "grid.update([[5]], [1])"
   ]
  },
  {
   "cell_type": "code",
   "execution_count": 8,
   "metadata": {},
   "outputs": [
    {
     "name": "stdout",
     "output_type": "stream",
     "text": [
      "[[[ 0  1  2  3  4  5  6]\n",
      "  [ 7  8  9 10 11 12 13]\n",
      "  [14 15 16 17 18 19 20]\n",
      "  [21 22 23 24 25 26 27]]\n",
      "\n",
      " [[28 29 30 31 32 33 34]\n",
      "  [35 36 37 38 39 40 41]\n",
      "  [42 43 44 45 46 47 48]\n",
      "  [49 50 51 52 53 54 55]]]\n"
     ]
    },
    {
     "data": {
      "text/plain": [
       "array([[ 7,  8,  9, 10, 11, 12, 13],\n",
       "       [14, 15, 16, 17, 18, 19, 20],\n",
       "       [21, 22, 23, 24, 25, 26, 27]])"
      ]
     },
     "execution_count": 8,
     "metadata": {},
     "output_type": "execute_result"
    }
   ],
   "source": [
    "a = np.arange(0,2*4*7).reshape([2,4,7])\n",
    "print(a)\n",
    "a[((0,0,0),(1,2,3))]"
   ]
  },
  {
   "cell_type": "code",
   "execution_count": 1,
   "metadata": {},
   "outputs": [
    {
     "ename": "NameError",
     "evalue": "name 'a' is not defined",
     "output_type": "error",
     "traceback": [
      "\u001b[0;31m---------------------------------------------------------------------------\u001b[0m",
      "\u001b[0;31mNameError\u001b[0m                                 Traceback (most recent call last)",
      "Cell \u001b[0;32mIn[1], line 1\u001b[0m\n\u001b[0;32m----> 1\u001b[0m a\n",
      "\u001b[0;31mNameError\u001b[0m: name 'a' is not defined"
     ]
    }
   ],
   "source": [
    "a"
   ]
  },
  {
   "cell_type": "code",
   "execution_count": 37,
   "metadata": {},
   "outputs": [
    {
     "name": "stdout",
     "output_type": "stream",
     "text": [
      "9\n",
      "9\n"
     ]
    }
   ],
   "source": [
    "print(a[0,1,2])\n",
    "b = (0,1,2)\n",
    "print(a[b])"
   ]
  },
  {
   "cell_type": "code",
   "execution_count": 28,
   "metadata": {},
   "outputs": [
    {
     "data": {
      "text/plain": [
       "array([40,  8])"
      ]
     },
     "execution_count": 28,
     "metadata": {},
     "output_type": "execute_result"
    }
   ],
   "source": [
    "b = np.array([[1,1,5], [0,1,1]])\n",
    "\n",
    "i = np.ravel_multi_index(b.T, a.shape)\n",
    "a.take(i)"
   ]
  },
  {
   "cell_type": "code",
   "execution_count": 40,
   "metadata": {},
   "outputs": [
    {
     "ename": "TypeError",
     "evalue": "unsupported operand type(s) for ** or pow(): 'list' and 'int'",
     "output_type": "error",
     "traceback": [
      "\u001b[0;31m---------------------------------------------------------------------------\u001b[0m",
      "\u001b[0;31mTypeError\u001b[0m                                 Traceback (most recent call last)",
      "Cell \u001b[0;32mIn[40], line 6\u001b[0m\n\u001b[1;32m      2\u001b[0m bc \u001b[39m=\u001b[39m np\u001b[39m.\u001b[39marray([\u001b[39m2\u001b[39m,\u001b[39m1\u001b[39m])\n\u001b[1;32m      4\u001b[0m stds \u001b[39m=\u001b[39m [\u001b[39m1\u001b[39m,\u001b[39m.8\u001b[39m]\n\u001b[0;32m----> 6\u001b[0m a \u001b[39m=\u001b[39m (bc\u001b[39m-\u001b[39mx)\u001b[39m*\u001b[39m\u001b[39m*\u001b[39m\u001b[39m2\u001b[39m\u001b[39m/\u001b[39mstds\u001b[39m*\u001b[39;49m\u001b[39m*\u001b[39;49m\u001b[39m2\u001b[39;49m\n",
      "\u001b[0;31mTypeError\u001b[0m: unsupported operand type(s) for ** or pow(): 'list' and 'int'"
     ]
    }
   ],
   "source": [
    "x = np.array([0,0])\n",
    "bc = np.array([2,1])\n",
    "\n",
    "stds = [1,.8]\n",
    "\n",
    "a = (bc-x)**2/stds**2\n"
   ]
  },
  {
   "cell_type": "code",
   "execution_count": 42,
   "metadata": {},
   "outputs": [
    {
     "data": {
      "text/plain": [
       "array([-2, -1])"
      ]
     },
     "execution_count": 42,
     "metadata": {},
     "output_type": "execute_result"
    }
   ],
   "source": [
    "x-bc"
   ]
  },
  {
   "cell_type": "code",
   "execution_count": 49,
   "metadata": {},
   "outputs": [
    {
     "data": {
      "text/plain": [
       "[(1, 2, 7),\n",
       " (1, 2, 7),\n",
       " (1, 2, 7),\n",
       " (1, 2, 7),\n",
       " (1, 3, 7),\n",
       " (1, 3, 7),\n",
       " (1, 3, 7),\n",
       " (1, 3, 7),\n",
       " (1, 4, 7),\n",
       " (1, 4, 7),\n",
       " (1, 4, 7),\n",
       " (1, 4, 7),\n",
       " (2, 2, 7),\n",
       " (2, 2, 7),\n",
       " (2, 2, 7),\n",
       " (2, 2, 7),\n",
       " (2, 3, 7),\n",
       " (2, 3, 7),\n",
       " (2, 3, 7),\n",
       " (2, 3, 7),\n",
       " (2, 4, 7),\n",
       " (2, 4, 7),\n",
       " (2, 4, 7),\n",
       " (2, 4, 7),\n",
       " (3, 2, 7),\n",
       " (3, 2, 7),\n",
       " (3, 2, 7),\n",
       " (3, 2, 7),\n",
       " (3, 3, 7),\n",
       " (3, 3, 7),\n",
       " (3, 3, 7),\n",
       " (3, 3, 7),\n",
       " (3, 4, 7),\n",
       " (3, 4, 7),\n",
       " (3, 4, 7),\n",
       " (3, 4, 7)]"
      ]
     },
     "execution_count": 49,
     "metadata": {},
     "output_type": "execute_result"
    }
   ],
   "source": [
    "\n",
    "import itertools\n",
    "[i for i in itertools.product(*[[1,2,3],[2,3,4],[7,7,7,7]])]"
   ]
  },
  {
   "cell_type": "code",
   "execution_count": null,
   "metadata": {},
   "outputs": [],
   "source": []
  }
 ],
 "metadata": {
  "kernelspec": {
   "display_name": "grabelab",
   "language": "python",
   "name": "python3"
  },
  "language_info": {
   "codemirror_mode": {
    "name": "ipython",
    "version": 3
   },
   "file_extension": ".py",
   "mimetype": "text/x-python",
   "name": "python",
   "nbconvert_exporter": "python",
   "pygments_lexer": "ipython3",
   "version": "3.10.13"
  },
  "orig_nbformat": 4
 },
 "nbformat": 4,
 "nbformat_minor": 2
}
