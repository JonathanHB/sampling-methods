{
 "cells": [
  {
   "cell_type": "code",
   "execution_count": null,
   "id": "e89bc31d-a25e-40ff-8ce3-67462e8e0fd2",
   "metadata": {},
   "outputs": [],
   "source": [
    "#Jonathan Borowsky\n",
    "#1/29/25\n",
    "#sampling methods"
   ]
  },
  {
   "cell_type": "code",
   "execution_count": null,
   "id": "42d24fb2-f110-4cee-8d18-11c888155c56",
   "metadata": {},
   "outputs": [],
   "source": [
    "outline in pseudocode\n",
    "main\n",
    "    import energy_landscapes\n",
    "    import propagators\n",
    "    import sampling_method_1\n",
    "    import sampling_method_2\n",
    "    import sampling_method_...\n",
    "    #import progress_coordinates #not yet written; where to draw the line between this and the sampling method is unclear\n",
    "    import comparison_methods #includes plotting methods\n",
    "\n",
    "comparison_methods.compare_something([energy_landscapes.l1, energy_landscapes.l2], \n",
    "                                     propagators.p1, \n",
    "                                     [sampling_method_1, sampling_method_2, ...], \n",
    "                                     progress_coordinate.pc,\n",
    "                                     cutoff_type = 'molecular_time', \n",
    "                                     cutoff = 10ns\n",
    "                                     n_replicates = 3)\n",
    "\n",
    "def compare_something:\n",
    "    for ls in args[0]:\n",
    "        #landscape_ests = []\n",
    "        for sm in args[2]:\n",
    "            sm_ests = []\n",
    "            for r in range(n_replicates):\n",
    "                sm_ests.append(sm(ls, p1, pc, cutoff_type, cutoff))\n",
    "            #landscape_ests.append(sm_ests)\n",
    "            \n",
    "            comparison_methods.numerical_comparison(ls, sm_ests, other_ground_truths (i.e. kinetics from long simulations))\n",
    "            comparison_methods.plotting_methods(ls, sm_ests, other_ground_truths (i.e. kinetics from long simulations))\n",
    "                    "
   ]
  },
  {
   "cell_type": "code",
   "execution_count": 1,
   "id": "91e28d5b-cd32-4608-a9e5-28cd3242c605",
   "metadata": {},
   "outputs": [],
   "source": [
    "import propagators\n",
    "import energy_landscapes\n",
    "import long_simulation\n"
   ]
  },
  {
   "cell_type": "code",
   "execution_count": 2,
   "id": "f370fc9b-48e5-4803-8f04-f5240f132848",
   "metadata": {},
   "outputs": [
    {
     "ename": "AttributeError",
     "evalue": "'list' object has no attribute 'flatten'",
     "output_type": "error",
     "traceback": [
      "\u001b[0;31m---------------------------------------------------------------------------\u001b[0m",
      "\u001b[0;31mAttributeError\u001b[0m                            Traceback (most recent call last)",
      "Cell \u001b[0;32mIn[2], line 10\u001b[0m\n\u001b[1;32m      7\u001b[0m nbins \u001b[38;5;241m=\u001b[39m \u001b[38;5;241m10\u001b[39m\n\u001b[1;32m      8\u001b[0m system1 \u001b[38;5;241m=\u001b[39m energy_landscapes\u001b[38;5;241m.\u001b[39munit_double_well()\n\u001b[0;32m---> 10\u001b[0m landscape \u001b[38;5;241m=\u001b[39m \u001b[43mlong_simulation\u001b[49m\u001b[38;5;241;43m.\u001b[39;49m\u001b[43mrecover_energy_landscape\u001b[49m\u001b[43m(\u001b[49m\u001b[43mpropagators\u001b[49m\u001b[38;5;241;43m.\u001b[39;49m\u001b[43mpropagate_nd\u001b[49m\u001b[43m,\u001b[49m\u001b[43m \u001b[49m\u001b[43msystem1\u001b[49m\u001b[43m,\u001b[49m\u001b[43m \u001b[49m\u001b[43mkT\u001b[49m\u001b[43m,\u001b[49m\u001b[43m \u001b[49m\u001b[43mx_init_coord\u001b[49m\u001b[43m,\u001b[49m\u001b[43m \u001b[49m\u001b[43mdt\u001b[49m\u001b[43m,\u001b[49m\u001b[43m \u001b[49m\u001b[43mnsteps\u001b[49m\u001b[43m,\u001b[49m\u001b[43m \u001b[49m\u001b[43msave_period\u001b[49m\u001b[43m,\u001b[49m\u001b[43m \u001b[49m\u001b[43mn_parallel\u001b[49m\u001b[43m,\u001b[49m\u001b[43m \u001b[49m\u001b[43mnbins\u001b[49m\u001b[43m)\u001b[49m\n",
      "File \u001b[0;32m~/Documents/grabelab/sampling-scheme-development/sampling-methods/long_simulation.py:23\u001b[0m, in \u001b[0;36mrecover_energy_landscape\u001b[0;34m(propagator, system, kT, x_init_coord, dt, nsteps, save_period, n_parallel, nbins)\u001b[0m\n\u001b[1;32m     12\u001b[0m long_trjs \u001b[38;5;241m=\u001b[39m propagator(system, kT, x_init, dt, nsteps, save_period)\n\u001b[1;32m     14\u001b[0m \u001b[38;5;66;03m# recorded_positions = []\u001b[39;00m\n\u001b[1;32m     15\u001b[0m \n\u001b[1;32m     16\u001b[0m \u001b[38;5;66;03m# for i in range(nrounds):\u001b[39;00m\n\u001b[0;32m   (...)\u001b[0m\n\u001b[1;32m     21\u001b[0m \u001b[38;5;66;03m#---------------------------------------------------------------\u001b[39;00m\n\u001b[1;32m     22\u001b[0m \u001b[38;5;66;03m#examine the probability distribution and bin the trajectory using a histogram\u001b[39;00m\n\u001b[0;32m---> 23\u001b[0m recorded_positions \u001b[38;5;241m=\u001b[39m \u001b[43mlong_trjs\u001b[49m\u001b[38;5;241;43m.\u001b[39;49m\u001b[43mflatten\u001b[49m()\n\u001b[1;32m     25\u001b[0m bin_extreme \u001b[38;5;241m=\u001b[39m \u001b[38;5;28mmax\u001b[39m(np\u001b[38;5;241m.\u001b[39mmax(recorded_positions), \u001b[38;5;241m-\u001b[39mnp\u001b[38;5;241m.\u001b[39mmin(recorded_positions))\n\u001b[1;32m     26\u001b[0m \u001b[38;5;66;03m#nbins = 101 #polynomial fit is insensitive to this [verify]\u001b[39;00m\n",
      "\u001b[0;31mAttributeError\u001b[0m: 'list' object has no attribute 'flatten'"
     ]
    }
   ],
   "source": [
    "kT = 1\n",
    "x_init_coord = 0\n",
    "dt = 0.001\n",
    "nsteps = 1000\n",
    "save_period = 100\n",
    "n_parallel = 4\n",
    "nbins = 10\n",
    "system1 = energy_landscapes.unit_double_well()\n",
    "\n",
    "landscape = long_simulation.recover_energy_landscape(propagators.propagate_nd, system1, kT, x_init_coord, dt, nsteps, save_period, n_parallel, nbins)\n"
   ]
  },
  {
   "cell_type": "code",
   "execution_count": null,
   "id": "09226c22-82dc-44c7-b334-6ea3ea99de96",
   "metadata": {},
   "outputs": [],
   "source": [
    "#run dynamics and recover the landscape\n",
    "#steps per round\n",
    "nsteps = 1000\n",
    "#number of rounds\n",
    "nrounds = 100000\n",
    "\n",
    "nbins = 101\n",
    "x_init_coord = -8\n",
    "n_parallel = 1\n",
    "\n",
    "#note that e_data here refers to energies, not ensembles\n",
    "x_data, e_data, recorded_positions = long_simulation.recover_energy_landscape(fewwell_force, D, kT, dt, nsteps, nrounds, nbins, x_init_coord, n_parallel)"
   ]
  }
 ],
 "metadata": {
  "kernelspec": {
   "display_name": "Python 3 (ipykernel)",
   "language": "python",
   "name": "python3"
  },
  "language_info": {
   "codemirror_mode": {
    "name": "ipython",
    "version": 3
   },
   "file_extension": ".py",
   "mimetype": "text/x-python",
   "name": "python",
   "nbconvert_exporter": "python",
   "pygments_lexer": "ipython3",
   "version": "3.11.9"
  }
 },
 "nbformat": 4,
 "nbformat_minor": 5
}
